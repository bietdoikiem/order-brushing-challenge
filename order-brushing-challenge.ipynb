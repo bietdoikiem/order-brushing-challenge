{
 "cells": [
  {
   "cell_type": "markdown",
   "metadata": {},
   "source": [
    "## Shopee Code League 2020\n",
    "<h3>Order Brushing Challenge</h3>\n",
    "<b>Team: DragonSnake</b>"
   ]
  },
  {
   "cell_type": "code",
   "execution_count": 1,
   "metadata": {},
   "outputs": [],
   "source": [
    "import numpy as np\n",
    "import pandas as pd\n",
    "import matplotlib.pyplot as plt\n",
    "import seaborn as sns\n",
    "from datetime import datetime, timedelta \n",
    "sns.set()"
   ]
  },
  {
   "cell_type": "code",
   "execution_count": 2,
   "metadata": {},
   "outputs": [],
   "source": [
    "%%capture\n",
    "from tqdm import tqdm\n",
    "tqdm().pandas()"
   ]
  },
  {
   "cell_type": "markdown",
   "metadata": {},
   "source": [
    "<h2>Explore Dataset</h2>"
   ]
  },
  {
   "cell_type": "code",
   "execution_count": 3,
   "metadata": {},
   "outputs": [],
   "source": [
    "df = pd.read_csv(\"./data/order_brush_order.csv\")"
   ]
  },
  {
   "cell_type": "markdown",
   "metadata": {},
   "source": [
    "Let's take a glimpse of the dataset"
   ]
  },
  {
   "cell_type": "code",
   "execution_count": 4,
   "metadata": {},
   "outputs": [
    {
     "data": {
      "text/html": [
       "<div>\n",
       "<style scoped>\n",
       "    .dataframe tbody tr th:only-of-type {\n",
       "        vertical-align: middle;\n",
       "    }\n",
       "\n",
       "    .dataframe tbody tr th {\n",
       "        vertical-align: top;\n",
       "    }\n",
       "\n",
       "    .dataframe thead th {\n",
       "        text-align: right;\n",
       "    }\n",
       "</style>\n",
       "<table border=\"1\" class=\"dataframe\">\n",
       "  <thead>\n",
       "    <tr style=\"text-align: right;\">\n",
       "      <th></th>\n",
       "      <th>orderid</th>\n",
       "      <th>shopid</th>\n",
       "      <th>userid</th>\n",
       "      <th>event_time</th>\n",
       "    </tr>\n",
       "  </thead>\n",
       "  <tbody>\n",
       "    <tr>\n",
       "      <th>0</th>\n",
       "      <td>31076582227611</td>\n",
       "      <td>93950878</td>\n",
       "      <td>30530270</td>\n",
       "      <td>2019-12-27 00:23:03</td>\n",
       "    </tr>\n",
       "    <tr>\n",
       "      <th>1</th>\n",
       "      <td>31118059853484</td>\n",
       "      <td>156423439</td>\n",
       "      <td>46057927</td>\n",
       "      <td>2019-12-27 11:54:20</td>\n",
       "    </tr>\n",
       "    <tr>\n",
       "      <th>2</th>\n",
       "      <td>31123355095755</td>\n",
       "      <td>173699291</td>\n",
       "      <td>67341739</td>\n",
       "      <td>2019-12-27 13:22:35</td>\n",
       "    </tr>\n",
       "    <tr>\n",
       "      <th>3</th>\n",
       "      <td>31122059872723</td>\n",
       "      <td>63674025</td>\n",
       "      <td>149380322</td>\n",
       "      <td>2019-12-27 13:01:00</td>\n",
       "    </tr>\n",
       "    <tr>\n",
       "      <th>4</th>\n",
       "      <td>31117075665123</td>\n",
       "      <td>127249066</td>\n",
       "      <td>149493217</td>\n",
       "      <td>2019-12-27 11:37:55</td>\n",
       "    </tr>\n",
       "  </tbody>\n",
       "</table>\n",
       "</div>"
      ],
      "text/plain": [
       "          orderid     shopid     userid           event_time\n",
       "0  31076582227611   93950878   30530270  2019-12-27 00:23:03\n",
       "1  31118059853484  156423439   46057927  2019-12-27 11:54:20\n",
       "2  31123355095755  173699291   67341739  2019-12-27 13:22:35\n",
       "3  31122059872723   63674025  149380322  2019-12-27 13:01:00\n",
       "4  31117075665123  127249066  149493217  2019-12-27 11:37:55"
      ]
     },
     "execution_count": 4,
     "metadata": {},
     "output_type": "execute_result"
    }
   ],
   "source": [
    "df.head(5)"
   ]
  },
  {
   "cell_type": "code",
   "execution_count": 5,
   "metadata": {},
   "outputs": [
    {
     "data": {
      "text/plain": [
       "(222750, 4)"
      ]
     },
     "execution_count": 5,
     "metadata": {},
     "output_type": "execute_result"
    }
   ],
   "source": [
    "(df.shape[0], df.shape[1])"
   ]
  },
  {
   "cell_type": "markdown",
   "metadata": {},
   "source": [
    "The dataset contains 222750 rows and 4 columns (orderid, shopid, userid, event_time)"
   ]
  },
  {
   "cell_type": "code",
   "execution_count": 6,
   "metadata": {},
   "outputs": [
    {
     "name": "stdout",
     "output_type": "stream",
     "text": [
      "<class 'pandas.core.frame.DataFrame'>\n",
      "RangeIndex: 222750 entries, 0 to 222749\n",
      "Data columns (total 4 columns):\n",
      " #   Column      Non-Null Count   Dtype \n",
      "---  ------      --------------   ----- \n",
      " 0   orderid     222750 non-null  int64 \n",
      " 1   shopid      222750 non-null  int64 \n",
      " 2   userid      222750 non-null  int64 \n",
      " 3   event_time  222750 non-null  object\n",
      "dtypes: int64(3), object(1)\n",
      "memory usage: 6.8+ MB\n"
     ]
    }
   ],
   "source": [
    "df.info()"
   ]
  },
  {
   "cell_type": "markdown",
   "metadata": {},
   "source": [
    "We can see that the event_time columns is still in string (object) type, thus, conversion to datetime for later processing is essential !"
   ]
  },
  {
   "cell_type": "code",
   "execution_count": 7,
   "metadata": {},
   "outputs": [],
   "source": [
    "df['event_time'] = pd.to_datetime(df['event_time'])"
   ]
  },
  {
   "cell_type": "code",
   "execution_count": 8,
   "metadata": {},
   "outputs": [
    {
     "data": {
      "text/plain": [
       "dtype('<M8[ns]')"
      ]
     },
     "execution_count": 8,
     "metadata": {},
     "output_type": "execute_result"
    }
   ],
   "source": [
    "# Check data type after converting whether it has been converted to Timestamp (pandas)\n",
    "df['event_time'].dtype"
   ]
  },
  {
   "cell_type": "markdown",
   "metadata": {},
   "source": [
    "<h2>Rules</h2>"
   ]
  },
  {
   "cell_type": "markdown",
   "metadata": {},
   "source": [
    "The dataframe consists of 4 columns which are order's ID, shop's ID, user's ID and the time when the order event occured."
   ]
  },
  {
   "cell_type": "markdown",
   "metadata": {},
   "source": [
    "<b>Rules defined by Shopee</b>\n",
    "<li>Concentrate rate = Number of orders within 1 hour / Number of unique buyers within 1 hour (per shopid)</li>\n",
    "If concentrate rate is equal to 3 or greater -> Shop would have deemed to do order brushing\n",
    "<li>Buyer proportion = number of individual's orders / total orders within 1 hour</li>"
   ]
  },
  {
   "cell_type": "markdown",
   "metadata": {},
   "source": [
    "<h3>Dataset Details</h3>"
   ]
  },
  {
   "cell_type": "code",
   "execution_count": 9,
   "metadata": {},
   "outputs": [
    {
     "data": {
      "text/plain": [
       "147941492    11703\n",
       "61556313      6691\n",
       "54615708      2640\n",
       "91799978       707\n",
       "57189823       687\n",
       "             ...  \n",
       "158235164        1\n",
       "147997211        1\n",
       "166898182        1\n",
       "194982850        1\n",
       "189530112        1\n",
       "Name: shopid, Length: 18770, dtype: int64"
      ]
     },
     "execution_count": 9,
     "metadata": {},
     "output_type": "execute_result"
    }
   ],
   "source": [
    "df['shopid'].value_counts()"
   ]
  },
  {
   "cell_type": "markdown",
   "metadata": {},
   "source": [
    "There are 18770 shop's IDs that we need to investigate whether each may perform order brushing cheat."
   ]
  },
  {
   "cell_type": "markdown",
   "metadata": {},
   "source": [
    "Let's convert unique shop's id to list !"
   ]
  },
  {
   "cell_type": "code",
   "execution_count": 10,
   "metadata": {},
   "outputs": [],
   "source": [
    "shop_list = df['shopid'].unique().tolist() # Convert numpy array to python list"
   ]
  },
  {
   "cell_type": "markdown",
   "metadata": {},
   "source": [
    "Let's try to findout the number of orders by shop's id"
   ]
  },
  {
   "cell_type": "code",
   "execution_count": 11,
   "metadata": {},
   "outputs": [],
   "source": [
    "def total_orders_by_shop_id(df, shop_list):\n",
    "    shop_orders = {}\n",
    "    for shop_id in tqdm(shop_list):\n",
    "        df_loc = df.loc[(df['shopid'] == shop_id)]\n",
    "        shop_orders[shop_id] = df_loc.shape[0]\n",
    "    return shop_orders"
   ]
  },
  {
   "cell_type": "markdown",
   "metadata": {},
   "source": [
    "According to the rules of shopee, concentrate rate per shop must be equal or greater than 3 in order to be in the suspicious of order brushing.\n",
    "Therefore, we must filter out list of shops that have 3 or more orders.\n",
    "Let's create a filtered dictionary !"
   ]
  },
  {
   "cell_type": "code",
   "execution_count": 12,
   "metadata": {},
   "outputs": [
    {
     "name": "stderr",
     "output_type": "stream",
     "text": [
      "100%|██████████| 18770/18770 [00:12<00:00, 1492.57it/s]"
     ]
    },
    {
     "name": "stdout",
     "output_type": "stream",
     "text": [
      "Wall time: 12.6 s\n"
     ]
    },
    {
     "name": "stderr",
     "output_type": "stream",
     "text": [
      "\n"
     ]
    }
   ],
   "source": [
    "%%time\n",
    "# Output number of orders by shop id\n",
    "shop_orders = total_orders_by_shop_id(df, shop_list)"
   ]
  },
  {
   "cell_type": "code",
   "execution_count": 13,
   "metadata": {},
   "outputs": [],
   "source": [
    "# Filter dictionary for shop with 3 or more orders\n",
    "filtered_shops = {k:v for k,v in shop_orders.items() if v >= 3}"
   ]
  },
  {
   "cell_type": "markdown",
   "metadata": {},
   "source": [
    "Based on the filtered shops, we can start filtering out the dataframe directly"
   ]
  },
  {
   "cell_type": "code",
   "execution_count": 14,
   "metadata": {},
   "outputs": [
    {
     "data": {
      "text/plain": [
       "(210357, 4)"
      ]
     },
     "execution_count": 14,
     "metadata": {},
     "output_type": "execute_result"
    }
   ],
   "source": [
    "# Filter list of shops that have 3 or more orders\n",
    "df = df.loc[df['shopid'].isin(filtered_shops.keys())]\n",
    "df.shape"
   ]
  },
  {
   "cell_type": "markdown",
   "metadata": {},
   "source": [
    "There are 210357 orders left after filtering order's ID of shops that have under 3 orders "
   ]
  },
  {
   "cell_type": "code",
   "execution_count": 15,
   "metadata": {},
   "outputs": [],
   "source": [
    "df = df.sort_values(by=['shopid', 'event_time']).reset_index(drop=True)"
   ]
  },
  {
   "cell_type": "markdown",
   "metadata": {},
   "source": [
    "<b>Rearrange Dataframe</b>\n",
    "<p>In order to handle processing orders of each shop easily following a time series, we have sorted the dataframe by shopid and event_time in ascending.</p>"
   ]
  },
  {
   "cell_type": "markdown",
   "metadata": {},
   "source": [
    "Let's try to save user orders per shop id under user's id and event_time data format in 2d array-list"
   ]
  },
  {
   "cell_type": "code",
   "execution_count": 16,
   "metadata": {},
   "outputs": [
    {
     "name": "stdout",
     "output_type": "stream",
     "text": [
      "Wall time: 13.1 s\n"
     ]
    }
   ],
   "source": [
    "%%time\n",
    "user_orders_by_shop_id = {}\n",
    "\n",
    "for index, row in df.iterrows():\n",
    "    current_shop_id = row['shopid']\n",
    "    current_user_id = row['userid']\n",
    "    current_order_time = row['event_time']\n",
    "    if current_shop_id not in user_orders_by_shop_id:\n",
    "        new_list = []\n",
    "        new_dict = {}\n",
    "        new_dict['userid'] = current_user_id\n",
    "        new_dict['event_time'] = current_order_time\n",
    "        new_list.append(new_dict)\n",
    "        user_orders_by_shop_id[current_shop_id] = new_list\n",
    "    else:\n",
    "        new_dict = {}\n",
    "        new_dict['userid'] = current_user_id\n",
    "        new_dict['event_time'] = current_order_time\n",
    "        user_orders_by_shop_id[current_shop_id].append(new_dict)"
   ]
  },
  {
   "cell_type": "markdown",
   "metadata": {},
   "source": [
    "Let's define function to calculate concentration rate for each shop id according to event time.\n",
    "<p>\n",
    "    <b>Notes:</b> It is much faster to use pd.DataFrame.at function to query by given index than iloc. (Great reduction in time complexity using .at)\n",
    "</p>"
   ]
  },
  {
   "cell_type": "code",
   "execution_count": 17,
   "metadata": {},
   "outputs": [
    {
     "name": "stdout",
     "output_type": "stream",
     "text": [
      "Wall time: 20.9 s\n"
     ]
    }
   ],
   "source": [
    "%%time\n",
    "# Define shop dictionary including list of orders within 1 hour\n",
    "shop_dict = {}\n",
    "\n",
    "# Loop through shop's orders dictionary by shop ID\n",
    "for shopid, orders in user_orders_by_shop_id.items():\n",
    "    current_shop_intervals = []\n",
    "    #Loop through order details in each shop's id\n",
    "    for index in range(len(orders)):\n",
    "        # Get current order time \n",
    "        current_order_time = orders[index]['event_time']\n",
    "        # Reset periods/intervals after each time window (1hour)\n",
    "        one_hour_period = []\n",
    "        one_hour_period.append(orders[index])\n",
    "        for order_index in range(index + 1, len(orders)):\n",
    "            if(index == order_index):\n",
    "                print(\"true\")\n",
    "            next_order_time = orders[order_index]['event_time']\n",
    "            time_between = (next_order_time - current_order_time).total_seconds() / 3600.0\n",
    "            if (time_between <= 1):\n",
    "                one_hour_period.append(orders[order_index])\n",
    "            else:\n",
    "                break\n",
    "        if(len(one_hour_period) >= 3):\n",
    "            current_shop_intervals.append(one_hour_period)\n",
    "    shop_dict[shopid] = current_shop_intervals\n"
   ]
  },
  {
   "cell_type": "code",
   "execution_count": 18,
   "metadata": {},
   "outputs": [
    {
     "data": {
      "text/plain": [
       "9031"
      ]
     },
     "execution_count": 18,
     "metadata": {},
     "output_type": "execute_result"
    }
   ],
   "source": [
    "len(shop_dict)"
   ]
  },
  {
   "cell_type": "code",
   "execution_count": 19,
   "metadata": {},
   "outputs": [
    {
     "name": "stdout",
     "output_type": "stream",
     "text": [
      "Wall time: 962 ms\n"
     ]
    }
   ],
   "source": [
    "%%time\n",
    "ans_shops = {}\n",
    "\n",
    "for shopid, intervals in shop_dict.items():\n",
    "    brushing_users = []\n",
    "    for periods in intervals:\n",
    "        concentrate_rate = 0;\n",
    "        unique_user_orders = {}\n",
    "        for order in periods:\n",
    "            if (order['userid'] not in unique_user_orders):\n",
    "                unique_user_orders[order['userid']] = 1/len(periods)\n",
    "            else:\n",
    "                unique_user_orders[order['userid']] += 1/len(periods)\n",
    "        concentrate_rate = len(periods) / len(unique_user_orders)\n",
    "        # Check if shop deemed to have order brushing\n",
    "        if (concentrate_rate >= 3):\n",
    "            max_value = max(unique_user_orders.values())\n",
    "            sus_users = [k for k,v in unique_user_orders.items() if v == max_value]\n",
    "            for sus_user in sus_users:\n",
    "                if (sus_user not in brushing_users):\n",
    "                    brushing_users += sus_users\n",
    "\n",
    "    ans_shops[shopid] = brushing_users"
   ]
  },
  {
   "cell_type": "code",
   "execution_count": 20,
   "metadata": {},
   "outputs": [],
   "source": [
    "# Create list of shop ids and users id as answers to the problem\n",
    "ans_shop_id = [k for k,v in ans_shops.items()]\n",
    "ans_shop_users = [v for k,v in ans_shops.items()]"
   ]
  },
  {
   "cell_type": "code",
   "execution_count": 21,
   "metadata": {},
   "outputs": [],
   "source": [
    "# Concat-ing order-brushed users for submission\n",
    "ans_users = []\n",
    "for users in ans_shop_users:\n",
    "    ans_string = \"\"\n",
    "    if (len(users) >= 1):\n",
    "        for user in users:\n",
    "            if(len(ans_string) == 0):\n",
    "                ans_string += str(user)\n",
    "            else:\n",
    "                ans_string += \"&\" + str(user)\n",
    "    else:\n",
    "        ans_string = \"0\"\n",
    "    ans_users.append(ans_string)"
   ]
  },
  {
   "cell_type": "markdown",
   "metadata": {},
   "source": [
    "Create a answer dictionary including shop id and user ids"
   ]
  },
  {
   "cell_type": "code",
   "execution_count": 22,
   "metadata": {},
   "outputs": [
    {
     "data": {
      "text/html": [
       "<div>\n",
       "<style scoped>\n",
       "    .dataframe tbody tr th:only-of-type {\n",
       "        vertical-align: middle;\n",
       "    }\n",
       "\n",
       "    .dataframe tbody tr th {\n",
       "        vertical-align: top;\n",
       "    }\n",
       "\n",
       "    .dataframe thead th {\n",
       "        text-align: right;\n",
       "    }\n",
       "</style>\n",
       "<table border=\"1\" class=\"dataframe\">\n",
       "  <thead>\n",
       "    <tr style=\"text-align: right;\">\n",
       "      <th></th>\n",
       "      <th>shopid</th>\n",
       "      <th>userid</th>\n",
       "    </tr>\n",
       "  </thead>\n",
       "  <tbody>\n",
       "    <tr>\n",
       "      <th>0</th>\n",
       "      <td>10061</td>\n",
       "      <td>0</td>\n",
       "    </tr>\n",
       "    <tr>\n",
       "      <th>1</th>\n",
       "      <td>10084</td>\n",
       "      <td>0</td>\n",
       "    </tr>\n",
       "    <tr>\n",
       "      <th>2</th>\n",
       "      <td>10100</td>\n",
       "      <td>0</td>\n",
       "    </tr>\n",
       "    <tr>\n",
       "      <th>3</th>\n",
       "      <td>10132</td>\n",
       "      <td>0</td>\n",
       "    </tr>\n",
       "    <tr>\n",
       "      <th>4</th>\n",
       "      <td>10133</td>\n",
       "      <td>0</td>\n",
       "    </tr>\n",
       "  </tbody>\n",
       "</table>\n",
       "</div>"
      ],
      "text/plain": [
       "   shopid userid\n",
       "0   10061      0\n",
       "1   10084      0\n",
       "2   10100      0\n",
       "3   10132      0\n",
       "4   10133      0"
      ]
     },
     "execution_count": 22,
     "metadata": {},
     "output_type": "execute_result"
    }
   ],
   "source": [
    "# Create dictionary with shop id as key and suspicious user as value\n",
    "ans_dict = dict(zip(ans_shop_id, ans_users))\n",
    "# Create dataframe from answer dictionary above\n",
    "ans_df = pd.DataFrame(ans_dict.items(), columns=['shopid', 'userid'])\n",
    "ans_df.head()"
   ]
  },
  {
   "cell_type": "code",
   "execution_count": 23,
   "metadata": {},
   "outputs": [],
   "source": [
    "# Create numpy array of all shops\n",
    "shop_array = np.array(shop_list)\n",
    "# Reshape shop's ids array into (x, y) rows/columns format\n",
    "shop_array_data = shop_array.reshape(len(shop_array), 1)\n",
    "# Create dataframe from reshaped array\n",
    "shop_array_df = pd.DataFrame({'shopid': shop_array_data[:,0]})"
   ]
  },
  {
   "cell_type": "markdown",
   "metadata": {},
   "source": [
    "Let's merge answered shops to list of all shops"
   ]
  },
  {
   "cell_type": "code",
   "execution_count": 24,
   "metadata": {},
   "outputs": [],
   "source": [
    "merge_df = shop_array_df.merge(ans_df, how='left', on='shopid')\n",
    "merge_df.fillna(\"0\", inplace=True)\n",
    "merge_df = merge_df.sort_values(by=['shopid']).reset_index(drop=True)"
   ]
  },
  {
   "cell_type": "code",
   "execution_count": 25,
   "metadata": {},
   "outputs": [],
   "source": [
    "# Output answer to csv file\n",
    "merge_df.to_csv(\"out.csv\", index=False)"
   ]
  },
  {
   "cell_type": "markdown",
   "metadata": {},
   "source": [
    "<h2>Legit check to top submissions</h2>\n",
    "Pending confirmed results (?)"
   ]
  },
  {
   "cell_type": "code",
   "execution_count": 26,
   "metadata": {},
   "outputs": [
    {
     "data": {
      "text/html": [
       "<div>\n",
       "<style scoped>\n",
       "    .dataframe tbody tr th:only-of-type {\n",
       "        vertical-align: middle;\n",
       "    }\n",
       "\n",
       "    .dataframe tbody tr th {\n",
       "        vertical-align: top;\n",
       "    }\n",
       "\n",
       "    .dataframe thead th {\n",
       "        text-align: right;\n",
       "    }\n",
       "</style>\n",
       "<table border=\"1\" class=\"dataframe\">\n",
       "  <thead>\n",
       "    <tr style=\"text-align: right;\">\n",
       "      <th></th>\n",
       "      <th>shopid</th>\n",
       "      <th>userid</th>\n",
       "    </tr>\n",
       "  </thead>\n",
       "  <tbody>\n",
       "    <tr>\n",
       "      <th>0</th>\n",
       "      <td>10009</td>\n",
       "      <td>0</td>\n",
       "    </tr>\n",
       "    <tr>\n",
       "      <th>1</th>\n",
       "      <td>10051</td>\n",
       "      <td>0</td>\n",
       "    </tr>\n",
       "    <tr>\n",
       "      <th>2</th>\n",
       "      <td>10061</td>\n",
       "      <td>0</td>\n",
       "    </tr>\n",
       "    <tr>\n",
       "      <th>3</th>\n",
       "      <td>10084</td>\n",
       "      <td>0</td>\n",
       "    </tr>\n",
       "    <tr>\n",
       "      <th>4</th>\n",
       "      <td>10100</td>\n",
       "      <td>0</td>\n",
       "    </tr>\n",
       "  </tbody>\n",
       "</table>\n",
       "</div>"
      ],
      "text/plain": [
       "   shopid userid\n",
       "0   10009      0\n",
       "1   10051      0\n",
       "2   10061      0\n",
       "3   10084      0\n",
       "4   10100      0"
      ]
     },
     "execution_count": 26,
     "metadata": {},
     "output_type": "execute_result"
    }
   ],
   "source": [
    "correct_df = pd.read_csv(\"data/prediction.csv\")\n",
    "correct_df = correct_df.sort_values(by=['shopid']).reset_index(drop=True)\n",
    "correct_df.head()"
   ]
  },
  {
   "cell_type": "code",
   "execution_count": 27,
   "metadata": {},
   "outputs": [],
   "source": [
    "def validation(list_1,list_2):\n",
    "    return sorted(list_1) == sorted(list_2)"
   ]
  },
  {
   "cell_type": "code",
   "execution_count": 28,
   "metadata": {},
   "outputs": [
    {
     "name": "stdout",
     "output_type": "stream",
     "text": [
      "Different submission at index 13 with userids are: 0 compared to: 214988798\n",
      "Different submission at index 332 with userids are: 0 compared to: 141006168\n",
      "Different submission at index 836 with userids are: 0 compared to: 740844\n",
      "Different submission at index 990 with userids are: 162508227&13135622&137245836&215382704 compared to: 215382704\n",
      "Different submission at index 1003 with userids are: 0 compared to: 197569856\n",
      "Different submission at index 1019 with userids are: 0 compared to: 148176353\n",
      "Different submission at index 1028 with userids are: 0 compared to: 84811421\n",
      "Different submission at index 1398 with userids are: 0 compared to: 128702876\n",
      "Different submission at index 1526 with userids are: 0 compared to: 192684666\n",
      "Different submission at index 2193 with userids are: 0 compared to: 114498557\n",
      "Different submission at index 2204 with userids are: 0 compared to: 33794624\n",
      "Different submission at index 2764 with userids are: 0 compared to: 214226569\n",
      "Different submission at index 3194 with userids are: 214808165 compared to: 5307816&214808165\n",
      "Different submission at index 3336 with userids are: 0 compared to: 9837180\n",
      "Different submission at index 3516 with userids are: 0 compared to: 214623481\n",
      "Different submission at index 4246 with userids are: 0 compared to: 215293398\n",
      "Different submission at index 4894 with userids are: 0 compared to: 130021933\n",
      "Different submission at index 5195 with userids are: 0 compared to: 186634585\n",
      "Different submission at index 5218 with userids are: 0 compared to: 119785264\n",
      "Different submission at index 5552 with userids are: 0 compared to: 7300419\n",
      "Different submission at index 5582 with userids are: 0 compared to: 214680031\n",
      "Different submission at index 5665 with userids are: 0 compared to: 39834931\n",
      "Different submission at index 6000 with userids are: 0 compared to: 150440717\n",
      "Different submission at index 6248 with userids are: 0 compared to: 80682958\n",
      "Different submission at index 6456 with userids are: 159315857 compared to: 35639374&159315857\n",
      "Different submission at index 6485 with userids are: 0 compared to: 212200633\n",
      "Different submission at index 6839 with userids are: 0 compared to: 117199298\n",
      "Different submission at index 6866 with userids are: 0 compared to: 81928284\n",
      "Different submission at index 7302 with userids are: 0 compared to: 210701971\n",
      "Different submission at index 7432 with userids are: 0 compared to: 214747060\n",
      "Different submission at index 8621 with userids are: 191211430&178491887 compared to: 178491887\n",
      "Different submission at index 9513 with userids are: 0 compared to: 169671453\n",
      "Different submission at index 9775 with userids are: 0 compared to: 214778616\n",
      "Different submission at index 9959 with userids are: 0 compared to: 129084826\n",
      "Different submission at index 11323 with userids are: 0 compared to: 18885346\n",
      "Different submission at index 13829 with userids are: 0 compared to: 132397558\n",
      "Different submission at index 14014 with userids are: 0 compared to: 121537666\n",
      "Different submission at index 14923 with userids are: 0 compared to: 48412388\n",
      "Different submission at index 14958 with userids are: 0 compared to: 2677380\n",
      "Different submission at index 15042 with userids are: 0 compared to: 211943763\n",
      "Different submission at index 15741 with userids are: 0 compared to: 94497233\n",
      "Different submission at index 16546 with userids are: 0 compared to: 121537666\n",
      "Different submission at index 16900 with userids are: 0 compared to: 92521144\n",
      "\n",
      "Total number of difference compared to top answers: 39 (zero answer) and 4 (with userid answer)\n",
      "Possible score on kaggle submission: ~0.9897\n"
     ]
    }
   ],
   "source": [
    "count_diff_0 = 0\n",
    "count_diff_arr = 0\n",
    "for i in range(merge_df.shape[0]):\n",
    "    if(len(merge_df.at[i, 'userid']) > 1):\n",
    "        ans_me_array = merge_df.at[i, 'userid'].split(\"&\")\n",
    "        ans_top_array = correct_df.at[i, 'userid'].split(\"&\")\n",
    "        if (validation(ans_me_array, ans_top_array) == False):\n",
    "            print(\"Different submission at index {} with userids are: {} compared to: {}\".format(i, merge_df.at[i, 'userid'], correct_df.at[i, 'userid']))\n",
    "            count_diff_arr += 1\n",
    "    else:\n",
    "        if (merge_df.at[i, 'userid'] != correct_df.at[i, 'userid']):\n",
    "            print(\"Different submission at index {} with userids are: {} compared to: {}\".format(i, merge_df.at[i, 'userid'], correct_df.at[i, 'userid']))\n",
    "            count_diff_0 += 1\n",
    "print(\"\\nTotal number of difference compared to top answers: {} (zero answer) and {} (with userid answer)\".format(count_diff_0, count_diff_arr))\n",
    "proportion_score = (407.275 - ((count_diff_0 * 0.005) + (count_diff_arr * 1))) / 407.275\n",
    "print(\"Possible score on kaggle submission: ~{:.4f}\".format(proportion_score))"
   ]
  },
  {
   "cell_type": "markdown",
   "metadata": {},
   "source": [
    "<h2>## End of Notebook ##</h2>\n",
    "<b>Member: Nguyen Pham Quoc Minh</b>\n",
    "<p><b>Team: DragonSnake</b></p>"
   ]
  },
  {
   "cell_type": "code",
   "execution_count": null,
   "metadata": {},
   "outputs": [],
   "source": []
  }
 ],
 "metadata": {
  "kernelspec": {
   "display_name": "Python 3",
   "language": "python",
   "name": "python3"
  },
  "language_info": {
   "codemirror_mode": {
    "name": "ipython",
    "version": 3
   },
   "file_extension": ".py",
   "mimetype": "text/x-python",
   "name": "python",
   "nbconvert_exporter": "python",
   "pygments_lexer": "ipython3",
   "version": "3.8.5"
  }
 },
 "nbformat": 4,
 "nbformat_minor": 4
}
